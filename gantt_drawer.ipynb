{
 "cells": [
  {
   "cell_type": "markdown",
   "metadata": {},
   "source": [
    "# Using this document:\n",
    "\n",
    "You can use this to create a Gantt chart. Simples!"
   ]
  },
  {
   "cell_type": "markdown",
   "metadata": {},
   "source": [
    "You can use this notebook to generate a Gantt chart in two ways.\n",
    "1. For the deadlines outlined by the University [here](https://durhamuniversity.sharepoint.com/teams/ComputerScienceUndergraduateCommunity/SitePages/Level-2-Assessment-Deadlines.aspx)\n",
    "2. With custom deadlines\n",
    "\n",
    "To choose which option you'd like to go with, consult the `CUSTOMISE` variable below.\n",
    "1. To choose option 1 from above, set the value of `CUSTOMISE` to `True`\n",
    "2. To choose option 2 from above, set the value of `CUSTOMISE` to `False`\n",
    "\n",
    "You can also choose whether to be able to view chronological progress in the Gantt. If you'd like to be able to see time progress, set the value of `PROGRESS` to `TRUE`. Otherwise, set the value of `PROGRESS` to `FALSE`.\n",
    "\n",
    "## <i>Options</i>:"
   ]
  },
  {
   "cell_type": "code",
   "execution_count": 45,
   "metadata": {},
   "outputs": [],
   "source": [
    "CUSTOMISE = False\n",
    "PROGRESS = True"
   ]
  },
  {
   "cell_type": "markdown",
   "metadata": {},
   "source": [
    "<hr>\n",
    "\n",
    "## <i>If you set `CUSTOM` to `True` and want to create a custom Gantt</i>:\n",
    "\n",
    "Assigned to the `COLUMNS` variable in the cell below are names of the columns in the `DataFrame` (basically Pandas' version of a table).\n",
    "\n",
    "To add rows <b><i>(and thus bars in the Gantt)</i></b>, add arrays into `rows` with strings as entries that correspond to the attributes in `COLUMNS`. Input the date in form `dd-mm-yyyy`.\n",
    "\n",
    "Example:\n",
    "```python\n",
    "rows = [\n",
    "    [\"Write ReqSpec\", \"08-10-2021\", \"04-11-2021\"],\n",
    "    [\"Finish ReqSpec\", \"04-11-2021\", \"09-11-2021\"]\n",
    "]\n",
    "```\n",
    "If you would like to have progress bars and percentages in the Gantt, set the value of the variable `PROGRESS` below to `True`. If not, leave it as `False`.\n",
    "\n",
    "After running all the cells, providing that no exception is thrown, you will find a Gantt at the bottom of the notebook."
   ]
  },
  {
   "cell_type": "code",
   "execution_count": 46,
   "metadata": {},
   "outputs": [],
   "source": [
    "COLUMNS = [\"Task Name\", \"Start Date\", \"Finish Date\"]\n",
    "rows = []"
   ]
  },
  {
   "cell_type": "markdown",
   "metadata": {},
   "source": [
    "<hr>\n",
    "\n",
    "## <i>Executing the code</i>:\n",
    "\n",
    "To execute the code, use these keyboard commands:\n",
    "\n",
    "<i>Windows/Linux</i>:\n",
    "\n",
    "1. <kbd>Esc</kbd>                          (unselect potential cells or edit modes)\n",
    "2. <kbd>Ctrl</kbd> + <kbd>A</kbd>          (select all cells)\n",
    "3. <kbd>Shift</kbd> + <kbd>Enter</kbd>     (run all selected)\n",
    "\n",
    "<i>Mac</i>:\n",
    "\n",
    "1. <kbd>Esc</kbd>                          (unselect potential cells or edit modes)\n",
    "2. <kbd>⌘ Command</kbd> + <kbd>A</kbd>     (select all cells)\n",
    "3. <kbd>Shift</kbd> + <kbd>Enter</kbd>     (run all selected)\n",
    "\n",
    "<hr>"
   ]
  },
  {
   "cell_type": "markdown",
   "metadata": {},
   "source": [
    "### Imports and helper functions:"
   ]
  },
  {
   "cell_type": "code",
   "execution_count": 47,
   "metadata": {},
   "outputs": [],
   "source": [
    "import pandas as pd\n",
    "import matplotlib.pyplot as plt\n",
    "import numpy as np\n",
    "import datetime\n",
    "import re\n",
    "\n",
    "COLOUR = \"#692862\" # https://lh3.googleusercontent.com/proxy/aoHHekU0Yc70d4YdPiM4MAbDQzRQuKIw-fSHUASuG7PopCyrmKlXON_ID2EeZLUKnrbw53kRGT6G5S-i63dWcfOnyqRkf8oef-3QBZgBMRSzpDMdnNlt\n",
    "DATE_TODAY = datetime.date.today()\n",
    "\n",
    "def formatDates(entry):\n",
    "    if type(entry) == datetime.datetime:\n",
    "        day = entry.day if entry.day >= 10 else f'0{entry.day}'\n",
    "        month = entry.month if entry.month >= 10 else f'0{entry.month}'\n",
    "        return f'{entry.year}-{day}-{month}'\n",
    "    \n",
    "    if \"w/c\" in entry:\n",
    "        entry = entry.replace(\"w/c\", \"\").strip()\n",
    "\n",
    "    day, month, year = [num for num in entry.split(\"/\")]\n",
    "    return f'{year}-{month}-{day}'\n",
    "\n",
    "\n",
    "convert_str_to_date = lambda date: datetime.date.fromisoformat(date) # turns `date` from a yyyy/mm/dd str to datetime.date\n",
    "\n",
    "# adds days to a datetime.datetime object then returns the resulting date\n",
    "add_days = lambda date, days: (date + datetime.timedelta(days=days)).isoformat() \n",
    "\n",
    "# reverses a date string (e.g 17/04/2021 --> 2021/04/17)\n",
    "reverse_date_str = lambda date: \"-\".join(date.split(\"-\")[::-1])"
   ]
  },
  {
   "cell_type": "markdown",
   "metadata": {},
   "source": [
    "### Create new DataFrame from inputted rows (or from deadlines table):"
   ]
  },
  {
   "cell_type": "code",
   "execution_count": 48,
   "metadata": {},
   "outputs": [],
   "source": [
    "if CUSTOMISE:\n",
    "    if len(rows) == 0:\n",
    "        raise Exception(\"Enter data into `rows`.\")\n",
    "    for row in rows:\n",
    "        if len(row) != 3:\n",
    "            raise Exception(\"Wrong row length\")\n",
    "        if not re.match(r\"\\d\\d-\\d\\d-\\d\\d\\d\\d\", row[1]) or not re.match(r\"\\d\\d-\\d\\d-\\d\\d\\d\\d\", row[2]):\n",
    "            raise Exception(f\"Date format wrong in row \\n{row}.\")\n",
    "\n",
    "    amended_rows = [ # reverses the order of the dates in rows, better for the DataFrame\n",
    "        row[:1] + [\n",
    "            reverse_date_str(entry) for entry in row[1:]\n",
    "        ] for row in rows\n",
    "    ]\n",
    "\n",
    "    df = pd.DataFrame(\n",
    "        np.array(amended_rows),\n",
    "        columns = COLUMNS\n",
    "    )\n",
    "    \n",
    "    # specify what the names of the columns are that are originally in the dataset\n",
    "    # i.e. specify the name of the column that contains the start date of a deadline, the end date of a deadline, the \n",
    "    START_DATE = \"Start Date\"\n",
    "    END_DATE = \"Finish Date\"\n",
    "    TASK_NAME = \"Task Name\"\n",
    "\n",
    "#############################\n",
    "    \n",
    "else:\n",
    "    columns = [\n",
    "        \"Hand out Date\", \n",
    "        \"Submission Date\", \n",
    "        \"Submission Time\", \n",
    "        \"Submission Format\", \n",
    "        \"Module Name\", \n",
    "        \"Assignment Name\", \n",
    "        \"Weighting\", \n",
    "        \"Marker\", \n",
    "        \"Feedback to Students\"\n",
    "    ]\n",
    "    \n",
    "    rows = [\n",
    "        [\"08/10/2021\", \"04/11/2021\", \"14:00\", \"Ultra\", \"2281 - Software Engineering\", \"Requirement Spec + Peer Evaluation\", \"10% Team + 1% individual\", \"EB\", \"w/c 29/11/2021\"],\n",
    "        [\"08/10/2021\", \"09/12/2021\", \"14:00\", \"Video Presentation\", \"2281 - Software Engineering\", \"Prototype Video Presentation + Peer evaluation 2\", \"10% Team + 1% individual\", \"CS/RP\", \"w/c 31/01/2022\"],\n",
    "        [\"08/10/2021\", \"27/01/2022\", \"14:00\", \"Ultra\", \"2281 - Software Engineering\", \"Test Plan Report + Peer evaluation 3\", \"10% Team + 1% individual\", \"EL\", \"w/c 21/02/2022\"],\n",
    "        [\"08/10/2021\", \"17/03/2022\", \"14:00\", \"Product Presentation – in-person, User Manual – Ultra\", \"2281 - Software Engineering\", \"Product Presentation + User Manual + Peer evaluation 4\", \"30% Team (15% each for presentation and manual) + 5% Individual (Presentation skills) + 1% Individual\", \"Presentation - All SE Staff, User Manual - WT\", \"w/c 02/05/2022\"],\n",
    "        [\"08/10/2021\", \"24/04/2022\", \"14:00\", \"Ultra\", \"2281 - Software Engineering\", \"Reflective Report\", \"25% Individual\", \"CS\", \"After exam period\"],\n",
    "        [\"08/10/2021\", \"29/04/2022\", \"14:00\", \"n/a\", \"2281 - Software Engineering\", \"Product Handover\", \"6% Team\", \"RP\", \"After exam period\"]\n",
    "    ]\n",
    "    \n",
    "    df = pd.DataFrame(np.array(rows), columns = columns)\n",
    "    \n",
    "    START_DATE = \"Hand out Date\"\n",
    "    END_DATE = \"Submission Date\"\n",
    "    TASK_NAME = \"Assignment Name\"\n",
    "    \n",
    "    df[START_DATE] = df[START_DATE].apply(formatDates)\n",
    "    df[END_DATE] = df[END_DATE].apply(formatDates)"
   ]
  },
  {
   "cell_type": "markdown",
   "metadata": {},
   "source": [
    "### Add 'derivable' columns to `df`"
   ]
  },
  {
   "cell_type": "code",
   "execution_count": 49,
   "metadata": {},
   "outputs": [],
   "source": [
    "# start num\n",
    "proj_start = df[START_DATE].min()\n",
    "\n",
    "start_num = [\n",
    "    (convert_str_to_date(row[START_DATE]) - convert_str_to_date(proj_start)).days for index, row in df.iterrows()\n",
    "]\n",
    "\n",
    "df[\"start_num\"] = start_num\n",
    "\n",
    "\n",
    "# end_num\n",
    "end_num = [\n",
    "    (convert_str_to_date(row[END_DATE]) - convert_str_to_date(proj_start)).days for index, row in df.iterrows()\n",
    "]\n",
    "\n",
    "df[\"end_num\"] = end_num\n",
    "\n",
    "\n",
    "# days_start_to_end\n",
    "days_start_to_end = [\n",
    "    (convert_str_to_date(row[END_DATE]) - convert_str_to_date(row[START_DATE])).days for index, row in df.iterrows()\n",
    "]\n",
    "\n",
    "df[\"days_start_to_end\"] = days_start_to_end\n",
    "\n",
    "# df"
   ]
  },
  {
   "cell_type": "markdown",
   "metadata": {},
   "source": [
    "### The table should be finished now"
   ]
  },
  {
   "cell_type": "code",
   "execution_count": 50,
   "metadata": {},
   "outputs": [
    {
     "data": {
      "image/png": "[encoded data removed]",
      "text/plain": [
       "<Figure size 864x288 with 1 Axes>"
      ]
     },
     "metadata": {
      "needs_background": "light"
     },
     "output_type": "display_data"
    }
   ],
   "source": [
    "x_dimension = 12\n",
    "y_dimension = 4\n",
    "\n",
    "fig, ax = plt.subplots(1, figsize=(x_dimension, y_dimension))\n",
    "\n",
    "\n",
    "ax.barh( # the lighter part of the bar - delineates the entire length of the section of the coursework\n",
    "    df[TASK_NAME],                                # y-axis labels\n",
    "    df[\"days_start_to_end\"],                      # length of bar\n",
    "    left = df[\"start_num\"],                       # indent from left\n",
    "    color = COLOUR,                               # colour of bar - default is some kind of blue\n",
    "    alpha = 0.5 if PROGRESS else 1.0              # opacity of bar\n",
    ")\n",
    "\n",
    "\n",
    "\n",
    "# ticks (what are ticks? https://www.mit.edu/~mbarker/formula1/f1help/13-ch-a6.htm)\n",
    "xticks = np.arange( # arange is just an array of \n",
    "    0,                       # start\n",
    "    df[\"end_num\"].max() + 7, # stop -- no need to add_days() because `df[\"end_num\"].max()` is an integer\n",
    "    7                        # step -- value 7 because we want one tick for every week\n",
    ")\n",
    "\n",
    "\n",
    "# specifying the values of the x-axis ticks and their labels\n",
    "end_day = convert_str_to_date(df[END_DATE].max())\n",
    "\n",
    "xticks_labels = pd.date_range(\n",
    "    proj_start,\n",
    "    end = add_days(end_day, 7)\n",
    ")\n",
    "xticks_labels = [reverse_date_str(date.isoformat()[:10]) for date in xticks_labels][::7]\n",
    "\n",
    "\n",
    "# set ticks and labels\n",
    "ax.set_xticks(xticks)\n",
    "ax.set_xticklabels(xticks_labels)\n",
    "\n",
    "# rotates the x-axis labels vertically to make the dates actually readable\n",
    "plt.xticks(rotation='vertical')\n",
    "\n",
    "\n",
    "# add vertical dashes from each tick to help better judge where bars go up to\n",
    "ax.set_axisbelow(True)\n",
    "ax.xaxis.grid(color='k', linestyle='dashed', alpha=0.4, which='both')\n",
    "\n",
    "\n",
    "if PROGRESS:\n",
    "    \n",
    "    progress = []\n",
    "    for index, row in df.iterrows():\n",
    "\n",
    "        start_date = convert_str_to_date(row[START_DATE])\n",
    "        finish_date = convert_str_to_date(row[END_DATE])\n",
    "\n",
    "        if (DATE_TODAY - start_date).days < 0:\n",
    "            # the current date is before the Hand out Date\n",
    "            progress.append(0)\n",
    "        elif (finish_date - DATE_TODAY).days < 0:\n",
    "            # current date is past the Submission Date\n",
    "            progress.append(row[\"days_start_to_end\"])\n",
    "        else:\n",
    "            progress.append((DATE_TODAY - start_date).days)\n",
    "    df[\"progress\"] = progress\n",
    "    \n",
    "    ax.barh(\n",
    "        df[TASK_NAME],           # y-axis labels\n",
    "        df[\"progress\"],          # length of bar\n",
    "        left = df[\"start_num\"],  # indent from left\n",
    "        color = COLOUR           # colour of bar\n",
    "    )\n",
    "    \n",
    "    # add %'s to each bar to show progress\n",
    "    for index, row in enumerate(df.iterrows()):\n",
    "        row = row[1]\n",
    "        percent_progress = row[\"progress\"] / row[\"days_start_to_end\"] * 100\n",
    "        rounded = round(percent_progress, 1)\n",
    "        x_coordinate = row[\"end_num\"] + 1 # this is fine\n",
    "        y_coordinate = index\n",
    "        percent_progress_str = f'{rounded}%'\n",
    "        ax.text(\n",
    "            x = x_coordinate,\n",
    "            y = y_coordinate,\n",
    "            s = percent_progress_str,\n",
    "            va = \"center\",\n",
    "            alpha = 0.8\n",
    "        )\n",
    "\n",
    "plt.gca().invert_yaxis()\n",
    "\n",
    "plt.show()"
   ]
  }
 ],
 "metadata": {
  "kernelspec": {
   "display_name": "Python 3",
   "language": "python",
   "name": "python3"
  },
  "language_info": {
   "codemirror_mode": {
    "name": "ipython",
    "version": 3
   },
   "file_extension": ".py",
   "mimetype": "text/x-python",
   "name": "python",
   "nbconvert_exporter": "python",
   "pygments_lexer": "ipython3",
   "version": "3.8.3"
  }
 },
 "nbformat": 4,
 "nbformat_minor": 4
}
